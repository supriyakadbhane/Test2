{
 "cells": [
  {
   "cell_type": "markdown",
   "id": "c598134e",
   "metadata": {},
   "source": [
    "Numpy Math operations"
   ]
  },
  {
   "cell_type": "code",
   "execution_count": 1,
   "id": "4352d595",
   "metadata": {},
   "outputs": [
    {
     "data": {
      "text/plain": [
       "[1, 2, 3, 4, 5, 6]"
      ]
     },
     "execution_count": 1,
     "metadata": {},
     "output_type": "execute_result"
    }
   ],
   "source": [
    "a= [1,2,3]\n",
    "b= [4,5,6]\n",
    "a+b"
   ]
  },
  {
   "cell_type": "markdown",
   "id": "64a20771",
   "metadata": {},
   "source": [
    "# This should be reflected on github"
   ]
  },
  {
   "cell_type": "code",
   "execution_count": 2,
   "id": "1093eb1d",
   "metadata": {},
   "outputs": [],
   "source": [
    "import numpy as np"
   ]
  },
  {
   "cell_type": "code",
   "execution_count": null,
   "id": "a8341222",
   "metadata": {},
   "outputs": [],
   "source": []
  },
  {
   "cell_type": "code",
   "execution_count": 3,
   "id": "0445b3e1",
   "metadata": {},
   "outputs": [],
   "source": [
    "a= np.array([1,2,3])\n",
    "b= np.array([4,5,6])"
   ]
  },
  {
   "cell_type": "code",
   "execution_count": null,
   "id": "985bb21f",
   "metadata": {},
   "outputs": [
    {
     "data": {
      "text/plain": [
       "array([5, 7, 9])"
      ]
     },
     "execution_count": 4,
     "metadata": {},
     "output_type": "execute_result"
    }
   ],
   "source": [
    "a+b  # vectorized operations\n",
    "\n",
    "# __add__"
   ]
  },
  {
   "cell_type": "code",
   "execution_count": 5,
   "id": "1169fdde",
   "metadata": {},
   "outputs": [
    {
     "data": {
      "text/plain": [
       "array([-3, -3, -3])"
      ]
     },
     "execution_count": 5,
     "metadata": {},
     "output_type": "execute_result"
    }
   ],
   "source": [
    "a -b"
   ]
  },
  {
   "cell_type": "code",
   "execution_count": 6,
   "id": "6452ceb5",
   "metadata": {},
   "outputs": [
    {
     "name": "stdout",
     "output_type": "stream",
     "text": [
      "[ 4 10 18]\n"
     ]
    }
   ],
   "source": [
    "print(a*b)"
   ]
  },
  {
   "cell_type": "code",
   "execution_count": 7,
   "id": "5e1b379e",
   "metadata": {},
   "outputs": [
    {
     "name": "stdout",
     "output_type": "stream",
     "text": [
      "[0.25 0.4  0.5 ]\n"
     ]
    }
   ],
   "source": [
    "print(a/b)"
   ]
  },
  {
   "cell_type": "markdown",
   "id": "d863d335",
   "metadata": {},
   "source": [
    "# comparison operator"
   ]
  },
  {
   "cell_type": "code",
   "execution_count": 8,
   "id": "107c4a74",
   "metadata": {},
   "outputs": [
    {
     "name": "stdout",
     "output_type": "stream",
     "text": [
      "[False False False]\n"
     ]
    }
   ],
   "source": [
    "print(a>b)"
   ]
  },
  {
   "cell_type": "code",
   "execution_count": 10,
   "id": "0ecb4bd9",
   "metadata": {},
   "outputs": [
    {
     "name": "stdout",
     "output_type": "stream",
     "text": [
      "[ True  True  True]\n"
     ]
    }
   ],
   "source": [
    "print(a<b)"
   ]
  },
  {
   "cell_type": "code",
   "execution_count": 12,
   "id": "edb3faca",
   "metadata": {},
   "outputs": [
    {
     "name": "stdout",
     "output_type": "stream",
     "text": [
      "[False False False]\n"
     ]
    }
   ],
   "source": [
    "print(a==b)"
   ]
  },
  {
   "cell_type": "code",
   "execution_count": 13,
   "id": "020d4688",
   "metadata": {},
   "outputs": [
    {
     "name": "stdout",
     "output_type": "stream",
     "text": [
      "<class 'numpy.ndarray'>\n"
     ]
    }
   ],
   "source": [
    "print(type(a))"
   ]
  },
  {
   "cell_type": "code",
   "execution_count": 14,
   "id": "b5fdba61",
   "metadata": {},
   "outputs": [
    {
     "name": "stdout",
     "output_type": "stream",
     "text": [
      "<class 'numpy.bool'>\n"
     ]
    }
   ],
   "source": [
    "ans = a>b\n",
    "print(type(ans[0]))"
   ]
  },
  {
   "cell_type": "markdown",
   "id": "e5184e35",
   "metadata": {},
   "source": [
    "## Logical Operators\n",
    "\n",
    "# and , or , not"
   ]
  },
  {
   "cell_type": "code",
   "execution_count": 17,
   "id": "c5d1066a",
   "metadata": {},
   "outputs": [
    {
     "name": "stdout",
     "output_type": "stream",
     "text": [
      "[False False  True]\n",
      "[ True False  True]\n",
      "[False  True False]\n"
     ]
    }
   ],
   "source": [
    "x= np.array([True, False,True])\n",
    "y= np.array([False,False,True])\n",
    "\n",
    "print(np.logical_and(x,y))\n",
    "print(np.logical_or(x,y))\n",
    "print(np.logical_not(x))"
   ]
  },
  {
   "cell_type": "markdown",
   "id": "f3952eda",
   "metadata": {},
   "source": [
    "# Bitwise operators"
   ]
  },
  {
   "cell_type": "code",
   "execution_count": 18,
   "id": "41ec340c",
   "metadata": {},
   "outputs": [
    {
     "name": "stdout",
     "output_type": "stream",
     "text": [
      "[0 0 1]\n"
     ]
    }
   ],
   "source": [
    "a = np.array([1,2,3])\n",
    "b= np.array([0,1,1])\n",
    "\n",
    "print(np.bitwise_and(a,b))"
   ]
  },
  {
   "cell_type": "markdown",
   "id": "159bcb18",
   "metadata": {},
   "source": []
  },
  {
   "cell_type": "code",
   "execution_count": null,
   "id": "06e76ba1",
   "metadata": {},
   "outputs": [],
   "source": [
    "# modulus and power"
   ]
  },
  {
   "cell_type": "code",
   "execution_count": 19,
   "id": "6ea7e07f",
   "metadata": {},
   "outputs": [],
   "source": [
    "a = np.array([10,20,30])\n",
    "b = np.array([3,7,4])"
   ]
  },
  {
   "cell_type": "code",
   "execution_count": 23,
   "id": "189afa6b",
   "metadata": {},
   "outputs": [
    {
     "name": "stdout",
     "output_type": "stream",
     "text": [
      "[1 6 2]\n",
      "[      1000 1280000000     810000]\n",
      "[1 6 2]\n"
     ]
    }
   ],
   "source": [
    "print(np.mod(a,b))\n",
    "print(np.power(a,b))\n",
    "print(np.remainder(a,b))\n",
    "\n"
   ]
  },
  {
   "cell_type": "markdown",
   "id": "42803cdd",
   "metadata": {},
   "source": [
    "# Scalar operations"
   ]
  },
  {
   "cell_type": "code",
   "execution_count": 26,
   "id": "3d2a8df2",
   "metadata": {},
   "outputs": [
    {
     "name": "stdout",
     "output_type": "stream",
     "text": [
      "33.8\n"
     ]
    }
   ],
   "source": [
    "celcius = np.array([0,10,20,30])\n",
    "\n",
    "to_farenheit = (9/5 +32)\n",
    "print(to_farenheit)"
   ]
  },
  {
   "cell_type": "markdown",
   "id": "c9ccf128",
   "metadata": {},
   "source": [
    "Common Maths functions"
   ]
  },
  {
   "cell_type": "code",
   "execution_count": 27,
   "id": "47c11d6d",
   "metadata": {},
   "outputs": [
    {
     "name": "stdout",
     "output_type": "stream",
     "text": [
      "[1.         1.41421356 1.73205081 2.        ]\n",
      "[ 2.71828183  7.3890561  20.08553692 54.59815003]\n",
      "[0.         0.69314718 1.09861229 1.38629436]\n",
      "[ 0.84147098  0.90929743  0.14112001 -0.7568025 ]\n"
     ]
    }
   ],
   "source": [
    "a= np.array([1,2,3,4])\n",
    "\n",
    "print(np.sqrt(a))\n",
    "print(np.exp(a))\n",
    "print(np.log(a))\n",
    "print(np.sin(a))"
   ]
  },
  {
   "cell_type": "markdown",
   "id": "93377c56",
   "metadata": {},
   "source": [
    "# Machine learning\n",
    "\n",
    "# activation function\n",
    "# singmoid \n",
    "\n"
   ]
  },
  {
   "cell_type": "code",
   "execution_count": 30,
   "id": "3863430a",
   "metadata": {},
   "outputs": [
    {
     "ename": "TypeError",
     "evalue": "The numpy boolean negative, the `-` operator, is not supported, use the `~` operator or the logical_not function instead.",
     "output_type": "error",
     "traceback": [
      "\u001b[31m---------------------------------------------------------------------------\u001b[39m",
      "\u001b[31mTypeError\u001b[39m                                 Traceback (most recent call last)",
      "\u001b[36mCell\u001b[39m\u001b[36m \u001b[39m\u001b[32mIn[30]\u001b[39m\u001b[32m, line 1\u001b[39m\n\u001b[32m----> \u001b[39m\u001b[32m1\u001b[39m sigmoid = \u001b[32m1\u001b[39m / (\u001b[32m1\u001b[39m + np.exp(\u001b[43m-\u001b[49m\u001b[43mx\u001b[49m))\n",
      "\u001b[31mTypeError\u001b[39m: The numpy boolean negative, the `-` operator, is not supported, use the `~` operator or the logical_not function instead."
     ]
    }
   ],
   "source": [
    "sigmoid = 1 / (1 + np.exp(-x))"
   ]
  },
  {
   "cell_type": "markdown",
   "id": "1a55422f",
   "metadata": {},
   "source": [
    "# Aggregation function s"
   ]
  },
  {
   "cell_type": "code",
   "execution_count": 31,
   "id": "c90189f9",
   "metadata": {},
   "outputs": [],
   "source": [
    "a= np.array([[1,2,3],\n",
    "             [4,5,6]])"
   ]
  },
  {
   "cell_type": "code",
   "execution_count": 32,
   "id": "f2467b77",
   "metadata": {},
   "outputs": [
    {
     "name": "stdout",
     "output_type": "stream",
     "text": [
      "21\n"
     ]
    }
   ],
   "source": [
    "print(np.sum(a))"
   ]
  },
  {
   "cell_type": "code",
   "execution_count": null,
   "id": "830d69c7",
   "metadata": {},
   "outputs": [],
   "source": []
  }
 ],
 "metadata": {
  "kernelspec": {
   "display_name": "vnnewenv",
   "language": "python",
   "name": "python3"
  },
  "language_info": {
   "codemirror_mode": {
    "name": "ipython",
    "version": 3
   },
   "file_extension": ".py",
   "mimetype": "text/x-python",
   "name": "python",
   "nbconvert_exporter": "python",
   "pygments_lexer": "ipython3",
   "version": "3.12.0"
  }
 },
 "nbformat": 4,
 "nbformat_minor": 5
}
